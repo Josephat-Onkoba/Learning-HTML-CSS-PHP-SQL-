{
  "nbformat": 4,
  "nbformat_minor": 0,
  "metadata": {
    "colab": {
      "provenance": [],
      "toc_visible": true,
      "include_colab_link": true
    },
    "kernelspec": {
      "name": "python3",
      "display_name": "Python 3"
    },
    "language_info": {
      "name": "python"
    }
  },
  "cells": [
    {
      "cell_type": "markdown",
      "metadata": {
        "id": "view-in-github",
        "colab_type": "text"
      },
      "source": [
        "<a href=\"https://colab.research.google.com/github/Josephat-Onkoba/Learning-HTML-CSS-PHP-SQL-/blob/main/Introduction_to_SQL.ipynb\" target=\"_parent\"><img src=\"https://colab.research.google.com/assets/colab-badge.svg\" alt=\"Open In Colab\"/></a>"
      ]
    },
    {
      "cell_type": "markdown",
      "source": [
        "# Getting Started\n",
        "Before you begin, set up by importing the Python `sqlite3` library which will enable you to work with SQL in Python. You will also create a connection to a database, and then create a cursor object to run SQL queries. In real-world scenarios, you will connect to an actual database such as PostgreSQL, MySQL, MongoDB, etc. However, for this workshop, you will make use of an in-memory database.\n",
        "\n",
        "You will use the following template:\n",
        "```\n",
        "# Execute the SQL code\n",
        "cursor.execute('''INPUT_YOUR_SQL_CODE_HERE\n",
        "''')\n",
        "\n",
        "# Output the result\n",
        "results = cursor.fetchall()\n",
        "for row in results:\n",
        "    print(row)\n",
        "```\n",
        "\n",
        "Once you are done, it is always good practice to close both the cursor and the connection at the end.\n",
        "```\n",
        "# Close cursor and connection (always do this when you are done)\n",
        "cursor.close()\n",
        "conn.close()\n",
        "```"
      ],
      "metadata": {
        "id": "AuBM6aG639hJ"
      }
    },
    {
      "cell_type": "code",
      "execution_count": null,
      "metadata": {
        "id": "LyHsYqdZ2mi2"
      },
      "outputs": [],
      "source": [
        "# Import sqlite3 library\n",
        "import sqlite3\n",
        "\n",
        "# Create connection to in-memory database\n",
        "conn = sqlite3.connect(':memory:')\n",
        "\n",
        "# Create cursor object to run SQL queries\n",
        "cursor = conn.cursor()"
      ]
    },
    {
      "cell_type": "markdown",
      "source": [
        "# CREATE TABLE"
      ],
      "metadata": {
        "id": "E82fVcvMdQd7"
      }
    },
    {
      "cell_type": "code",
      "source": [
        "# Create a table called \"Students\"\n",
        "cursor.execute('''\n",
        "    CREATE TABLE Students (\n",
        "        ID INTEGER PRIMARY KEY,\n",
        "        Name TEXT,\n",
        "        Age INTEGER,\n",
        "        Grade TEXT\n",
        "    )\n",
        "''')"
      ],
      "metadata": {
        "id": "JdH2JMZhdTcw"
      },
      "execution_count": null,
      "outputs": []
    },
    {
      "cell_type": "markdown",
      "source": [
        "## Challenge\n",
        "\n",
        "Create a table called `Employees` that has the following fields:\n",
        "* EmpID (employee ID number): integer, primary key\n",
        "* FName (employee first name): text\n",
        "* LName (employee last name): text\n",
        "* Role: (the employee's current role): text (can be Administrator, Assistant, Developer, and Manager)\n",
        "* Salary (how much employee earns): integer"
      ],
      "metadata": {
        "id": "1C0jmwKl1E8y"
      }
    },
    {
      "cell_type": "code",
      "source": [],
      "metadata": {
        "id": "DIEmNZ1f2bFu"
      },
      "execution_count": null,
      "outputs": []
    },
    {
      "cell_type": "code",
      "source": [
        "# Hint\n",
        "CREATE TABLE Employees (\n",
        "    EmpID INTEGER PRIMARY KEY,\n",
        "    FName TEXT,\n",
        "    LName TEXT,\n",
        "    Role TEXT,\n",
        "    Salary INTEGER\n",
        ")"
      ],
      "metadata": {
        "id": "ocjF5_Nd2bmR"
      },
      "execution_count": null,
      "outputs": []
    },
    {
      "cell_type": "markdown",
      "source": [
        "# INSERT INTO"
      ],
      "metadata": {
        "id": "3llOCnNIfDVm"
      }
    },
    {
      "cell_type": "code",
      "source": [
        "# Insert sample data into the table\n",
        "cursor.execute(\"INSERT INTO Students (Name, Age, Grade) VALUES ('John', 18, 'A')\")\n",
        "cursor.execute(\"INSERT INTO Students (Name, Age, Grade) VALUES ('Jane', 19, 'B')\")\n",
        "cursor.execute(\"INSERT INTO Students (Name, Age, Grade) VALUES ('Mark', 17, 'C')\")\n",
        "cursor.execute(\"INSERT INTO Students (Name, Age, Grade) VALUES ('Emily', 20, 'A')\")\n",
        "cursor.execute(\"INSERT INTO Students (Name, Age, Grade) VALUES ('Sarah', 19, 'B')\")\n",
        "cursor.execute(\"INSERT INTO Students (Name, Age, Grade) VALUES ('Michael', 20, 'A')\")\n",
        "cursor.execute(\"INSERT INTO Students (Name, Age, Grade) VALUES ('Sophia', 18, 'A')\")\n",
        "cursor.execute(\"INSERT INTO Students (Name, Age, Grade) VALUES ('William', 19, 'B')\")\n",
        "cursor.execute(\"INSERT INTO Students (Name, Age, Grade) VALUES ('Olivia', 21, 'A')\")\n",
        "cursor.execute(\"INSERT INTO Students (Name, Age, Grade) VALUES ('Ethan', 20, 'C')\")"
      ],
      "metadata": {
        "id": "TNJcKUqkfFEh"
      },
      "execution_count": null,
      "outputs": []
    },
    {
      "cell_type": "markdown",
      "source": [
        "## Challenge\n",
        "\n",
        "Insert at most 10 records into that table."
      ],
      "metadata": {
        "id": "NrF5dx4L1CaS"
      }
    },
    {
      "cell_type": "code",
      "source": [],
      "metadata": {
        "id": "cYNb664F29rr"
      },
      "execution_count": null,
      "outputs": []
    },
    {
      "cell_type": "code",
      "source": [
        "# Hint\n",
        "INSERT INTO Employees (EmpID, FName, LName, Role, Salary)\n",
        "VALUES\n",
        "    (1, 'John', 'Doe', 'Manager', 50000),\n",
        "    (2, 'Jane', 'Smith', 'Developer', 35000),\n",
        "    (3, 'Michael', 'Johnson', 'Developer', 45000),\n",
        "    (4, 'Emily', 'Brown', 'Administrator', 40000),\n",
        "    (5, 'William', 'Davis', 'Manager', 30000),\n",
        "    (6, 'Olivia', 'Miller', 'Assistant', 38000),\n",
        "    (7, 'James', 'Wilson', 'Assistant', 55000),\n",
        "    (8, 'Sophia', 'Taylor', 'Manager', 32000),\n",
        "    (9, 'Daniel', 'Anderson', 'Administrator', 48000),\n",
        "    (10, 'Ava', 'Thomas', 'Developer', 36000)"
      ],
      "metadata": {
        "id": "n5BeldNJ2-Mz"
      },
      "execution_count": null,
      "outputs": []
    },
    {
      "cell_type": "markdown",
      "source": [
        "# SELECT"
      ],
      "metadata": {
        "id": "-mTMz7GUdrJI"
      }
    },
    {
      "cell_type": "code",
      "source": [
        "# Execute a SELECT query to retrieve all records from the \"Students\" table\n",
        "cursor.execute(\"SELECT * FROM Students\")\n",
        "\n",
        "# Fetch all the records\n",
        "records = cursor.fetchall()\n",
        "\n",
        "# Print the fetched records\n",
        "for record in records:\n",
        "    print(record)"
      ],
      "metadata": {
        "id": "DuHXM1-jdXl3"
      },
      "execution_count": null,
      "outputs": []
    },
    {
      "cell_type": "markdown",
      "source": [
        "## Challenge\n",
        "\n",
        "Retrieve all the records."
      ],
      "metadata": {
        "id": "sdYAEZAw0-fm"
      }
    },
    {
      "cell_type": "code",
      "source": [],
      "metadata": {
        "id": "zRgY3Hmy3UzD"
      },
      "execution_count": null,
      "outputs": []
    },
    {
      "cell_type": "code",
      "source": [
        "# Hint\n",
        "SELECT * FROM Employees"
      ],
      "metadata": {
        "id": "KN61emPU3VXc"
      },
      "execution_count": null,
      "outputs": []
    },
    {
      "cell_type": "markdown",
      "source": [
        "# SELECT DISTINCT"
      ],
      "metadata": {
        "id": "ipbarv5mpcri"
      }
    },
    {
      "cell_type": "code",
      "source": [
        "# Execute a SELECT query to retrieve distinct grades\n",
        "cursor.execute(\"SELECT DISTINCT Grade FROM Students\")\n",
        "\n",
        "# Fetch all the records\n",
        "records = cursor.fetchall()\n",
        "\n",
        "# Print the fetched records\n",
        "for record in records:\n",
        "    print(record)"
      ],
      "metadata": {
        "id": "Qk-kKRkxpXV7"
      },
      "execution_count": null,
      "outputs": []
    },
    {
      "cell_type": "markdown",
      "source": [
        "## Challenge\n",
        "\n",
        "Retrieve the distinct roles from the Employees table."
      ],
      "metadata": {
        "id": "lpTxqf2h09zl"
      }
    },
    {
      "cell_type": "code",
      "source": [],
      "metadata": {
        "id": "KwBycHyK33nA"
      },
      "execution_count": null,
      "outputs": []
    },
    {
      "cell_type": "code",
      "source": [
        "# Hint\n",
        "SELECT DISTINCT Role FROM Employees;"
      ],
      "metadata": {
        "id": "SnI-p7OL34WJ"
      },
      "execution_count": null,
      "outputs": []
    },
    {
      "cell_type": "markdown",
      "source": [
        "# WHERE"
      ],
      "metadata": {
        "id": "zn7bXpx0fljw"
      }
    },
    {
      "cell_type": "code",
      "source": [
        "# Execute a SELECT query with a WHERE clause to retrieve Emily's record\n",
        "cursor.execute(\"SELECT * FROM Students WHERE Name = 'Emily'\")\n",
        "\n",
        "# Fetch all the records\n",
        "records = cursor.fetchall()\n",
        "\n",
        "# Print the fetched records\n",
        "for record in records:\n",
        "    print(record)"
      ],
      "metadata": {
        "id": "Qi3SWZbSfpSr"
      },
      "execution_count": null,
      "outputs": []
    },
    {
      "cell_type": "markdown",
      "source": [
        "## Challenge\n",
        "\n",
        "Use the WHERE clause to retrieve all managers."
      ],
      "metadata": {
        "id": "-F6kAHY209Hl"
      }
    },
    {
      "cell_type": "code",
      "source": [],
      "metadata": {
        "id": "bMMWjWLD4LR2"
      },
      "execution_count": null,
      "outputs": []
    },
    {
      "cell_type": "code",
      "source": [
        "# Hint\n",
        "SELECT * FROM Employees WHERE Role = 'Manager'"
      ],
      "metadata": {
        "id": "AQi9Uovx4Lxd"
      },
      "execution_count": null,
      "outputs": []
    },
    {
      "cell_type": "markdown",
      "source": [
        "# AND, OR, NOT"
      ],
      "metadata": {
        "id": "HTELW90-uuOp"
      }
    },
    {
      "cell_type": "code",
      "source": [
        "# Execute a SELECT query with the AND operator\n",
        "cursor.execute(\"SELECT * FROM Students WHERE Grade = 'A' AND Age > 20\")\n",
        "\n",
        "# Fetch all the records\n",
        "records = cursor.fetchall()\n",
        "\n",
        "# Print the fetched records\n",
        "for record in records:\n",
        "    print(record)"
      ],
      "metadata": {
        "id": "NP8AskShuxXE"
      },
      "execution_count": null,
      "outputs": []
    },
    {
      "cell_type": "code",
      "source": [
        "# Execute a SELECT query with the OR operator\n",
        "cursor.execute(\"SELECT * FROM Students WHERE Grade = 'A' OR Age < 20\")\n",
        "\n",
        "# Fetch all the records\n",
        "records = cursor.fetchall()\n",
        "\n",
        "# Print the fetched records\n",
        "for record in records:\n",
        "    print(record)"
      ],
      "metadata": {
        "id": "W4d-kRZdu7ku"
      },
      "execution_count": null,
      "outputs": []
    },
    {
      "cell_type": "code",
      "source": [
        "# Execute a SELECT query with the NOT operator\n",
        "cursor.execute(\"SELECT * FROM Students WHERE NOT Grade = 'A'\")\n",
        "\n",
        "# Fetch all the records\n",
        "records = cursor.fetchall()\n",
        "\n",
        "# Print the fetched records\n",
        "for record in records:\n",
        "    print(record)"
      ],
      "metadata": {
        "id": "wlXhAwSYvE1J"
      },
      "execution_count": null,
      "outputs": []
    },
    {
      "cell_type": "markdown",
      "source": [
        "## Challenge\n",
        "\n",
        "Retrieve all the records where the managers are earning more than 50000.\n"
      ],
      "metadata": {
        "id": "jb-Wk4Hn07Ga"
      }
    },
    {
      "cell_type": "code",
      "source": [],
      "metadata": {
        "id": "nuxsiimoPg6Q"
      },
      "execution_count": null,
      "outputs": []
    },
    {
      "cell_type": "code",
      "source": [
        "# Hint\n",
        "SELECT * FROM Employees WHERE Role = 'Manager' AND Salary > 50000"
      ],
      "metadata": {
        "id": "zaqGXptMuv_x"
      },
      "execution_count": null,
      "outputs": []
    },
    {
      "cell_type": "markdown",
      "source": [
        "## Challenge\n",
        "\n",
        "Retrieve all the records where the employee is either an assistant or earning less than or equal to 35000."
      ],
      "metadata": {
        "id": "DO5SULDWzuRF"
      }
    },
    {
      "cell_type": "code",
      "source": [],
      "metadata": {
        "id": "TPGUVdWez1So"
      },
      "execution_count": null,
      "outputs": []
    },
    {
      "cell_type": "code",
      "source": [
        "# Hint\n",
        "SELECT * FROM Employees WHERE Role = 'Assistant' OR Salary <= 35000"
      ],
      "metadata": {
        "id": "hfMhSw7Kz1BN"
      },
      "execution_count": null,
      "outputs": []
    },
    {
      "cell_type": "markdown",
      "source": [
        "## Challenge\n",
        "\n",
        "Retrieve all the records where the employees aren't Administrators."
      ],
      "metadata": {
        "id": "HQg4kr5pzxpA"
      }
    },
    {
      "cell_type": "code",
      "source": [],
      "metadata": {
        "id": "AuqJ7T7iz981"
      },
      "execution_count": null,
      "outputs": []
    },
    {
      "cell_type": "code",
      "source": [
        "# Hint\n",
        "SELECT * FROM Employees WHERE NOT Role = 'Administrator'"
      ],
      "metadata": {
        "id": "K3vVLfhmz9vx"
      },
      "execution_count": null,
      "outputs": []
    },
    {
      "cell_type": "markdown",
      "source": [
        "# ORDER BY"
      ],
      "metadata": {
        "id": "dq_U67CuqZgb"
      }
    },
    {
      "cell_type": "code",
      "source": [
        "# Execute a SELECT query to retrieve names and order them in ascending order\n",
        "cursor.execute(\"SELECT Name FROM Students ORDER BY Name\")\n",
        "\n",
        "# Fetch all the records\n",
        "records = cursor.fetchall()\n",
        "\n",
        "# Print the fetched records\n",
        "for record in records:\n",
        "    print(record)"
      ],
      "metadata": {
        "id": "iWEJ2fhIp_Zf"
      },
      "execution_count": null,
      "outputs": []
    },
    {
      "cell_type": "code",
      "source": [
        "# Execute a SELECT query to retrieve names and order them in descending order\n",
        "cursor.execute(\"SELECT Name FROM Students ORDER BY Name DESC\")\n",
        "\n",
        "# Fetch all the records\n",
        "records = cursor.fetchall()\n",
        "\n",
        "# Print the fetched records\n",
        "for record in records:\n",
        "    print(record)"
      ],
      "metadata": {
        "id": "lA9I-aazqWI9"
      },
      "execution_count": null,
      "outputs": []
    },
    {
      "cell_type": "markdown",
      "source": [
        "## Challenge\n",
        "\n",
        "Retrieve all records and display them in decreasing order of last names."
      ],
      "metadata": {
        "id": "LTEG9Pib051k"
      }
    },
    {
      "cell_type": "code",
      "source": [],
      "metadata": {
        "id": "iInc-lZXq88b"
      },
      "execution_count": null,
      "outputs": []
    },
    {
      "cell_type": "code",
      "source": [
        "# Hint\n",
        "SELECT * FROM Employees ORDER BY LName DESC"
      ],
      "metadata": {
        "id": "VUAvoIS1q9OW"
      },
      "execution_count": null,
      "outputs": []
    },
    {
      "cell_type": "markdown",
      "source": [
        "# UPDATE"
      ],
      "metadata": {
        "id": "SwgiU4SlePdc"
      }
    },
    {
      "cell_type": "code",
      "source": [
        "# Update the record with ID = 2 in the \"Students\" table\n",
        "cursor.execute(\"UPDATE Students SET Grade = 'A' WHERE ID = 2\")\n",
        "\n",
        "# Fetch all records from the \"Students\" table after the update\n",
        "cursor.execute(\"SELECT * FROM Students\")\n",
        "records = cursor.fetchall()\n",
        "print(\"\\nRecords after update:\")\n",
        "for record in records:\n",
        "    print(record)"
      ],
      "metadata": {
        "id": "J5LitueNfZYY"
      },
      "execution_count": null,
      "outputs": []
    },
    {
      "cell_type": "markdown",
      "source": [
        "## Challenge\n",
        "\n",
        "Update a record of your choice to change its salary."
      ],
      "metadata": {
        "id": "hqiOAD4X04jn"
      }
    },
    {
      "cell_type": "code",
      "source": [],
      "metadata": {
        "id": "dL3VqgLbyzMV"
      },
      "execution_count": null,
      "outputs": []
    },
    {
      "cell_type": "code",
      "source": [
        "# Hint\n",
        "UPDATE Employees SET Salary = 72000 WHERE EmpId = 5"
      ],
      "metadata": {
        "id": "J8jl-WD1yzps"
      },
      "execution_count": null,
      "outputs": []
    },
    {
      "cell_type": "markdown",
      "source": [
        "# DELETE"
      ],
      "metadata": {
        "id": "ujjrFqonfiL8"
      }
    },
    {
      "cell_type": "code",
      "source": [
        "# Delete the record with ID = 1 from the \"Students\" table\n",
        "cursor.execute(\"DELETE FROM Students WHERE ID = 1\")\n",
        "\n",
        "# Fetch all records from the \"Students\" table after the deletion\n",
        "cursor.execute(\"SELECT * FROM Students\")\n",
        "records = cursor.fetchall()\n",
        "print(\"\\nRecords after deletion:\")\n",
        "for record in records:\n",
        "    print(record)"
      ],
      "metadata": {
        "id": "j8AT3YlGfjbp"
      },
      "execution_count": null,
      "outputs": []
    },
    {
      "cell_type": "markdown",
      "source": [
        "## Challenge\n",
        "\n",
        "Delete a record of your choice."
      ],
      "metadata": {
        "id": "U4GAM8hg03wX"
      }
    },
    {
      "cell_type": "code",
      "source": [],
      "metadata": {
        "id": "e9fGwm6-zEH0"
      },
      "execution_count": null,
      "outputs": []
    },
    {
      "cell_type": "code",
      "source": [
        "# Hint\n",
        "DELETE FROM Employees WHERE EmpId = 5"
      ],
      "metadata": {
        "id": "hk4X2mb4zEbb"
      },
      "execution_count": null,
      "outputs": []
    },
    {
      "cell_type": "markdown",
      "source": [
        "# MIN & MAX"
      ],
      "metadata": {
        "id": "NcA0WZhPoXDz"
      }
    },
    {
      "cell_type": "code",
      "source": [
        "# Execute a SELECT query to retrieve the minimum age\n",
        "cursor.execute(\"SELECT MIN(Age) FROM Students\")\n",
        "\n",
        "# Fetch all the records\n",
        "records = cursor.fetchall()\n",
        "\n",
        "# Print the fetched records\n",
        "for record in records:\n",
        "    print(record)"
      ],
      "metadata": {
        "id": "j7CA4iADoWpY"
      },
      "execution_count": null,
      "outputs": []
    },
    {
      "cell_type": "code",
      "source": [
        "# Execute a SELECT query to retrieve the maximum age\n",
        "cursor.execute(\"SELECT MAX(Age) FROM Students\")\n",
        "\n",
        "# Fetch all the records\n",
        "records = cursor.fetchall()\n",
        "\n",
        "# Print the fetched records\n",
        "for record in records:\n",
        "    print(record)"
      ],
      "metadata": {
        "id": "dOphy_Sjoh-2"
      },
      "execution_count": null,
      "outputs": []
    },
    {
      "cell_type": "markdown",
      "source": [
        "## Challenge\n",
        "\n",
        "Use the MIN function to retrieve the minimum salary in the database."
      ],
      "metadata": {
        "id": "unDJr_UUNXaW"
      }
    },
    {
      "cell_type": "code",
      "source": [],
      "metadata": {
        "id": "cpgKrPetN-mr"
      },
      "execution_count": null,
      "outputs": []
    },
    {
      "cell_type": "code",
      "source": [
        "# Hint\n",
        "SELECT MIN(Salary) FROM Employees;"
      ],
      "metadata": {
        "id": "WNvdcVVQN-ZT"
      },
      "execution_count": null,
      "outputs": []
    },
    {
      "cell_type": "markdown",
      "source": [
        "## Challenge\n",
        "\n",
        "Use the MAX function to retrieve the maximum salary in the database."
      ],
      "metadata": {
        "id": "rIPOXp0W02cX"
      }
    },
    {
      "cell_type": "code",
      "source": [],
      "metadata": {
        "id": "60XjQ6MhN01z"
      },
      "execution_count": null,
      "outputs": []
    },
    {
      "cell_type": "code",
      "source": [
        "# Hint\n",
        "SELECT MAX(Salary) FROM Employees;"
      ],
      "metadata": {
        "id": "cBaPFg-BN1TY"
      },
      "execution_count": null,
      "outputs": []
    },
    {
      "cell_type": "markdown",
      "source": [
        "# COUNT, AVG, SUM"
      ],
      "metadata": {
        "id": "KFtFDTrzqsfT"
      }
    },
    {
      "cell_type": "code",
      "source": [
        "# Execute a SELECT query to count all records\n",
        "cursor.execute(\"SELECT COUNT(*) FROM Students\")\n",
        "\n",
        "# Fetch all the records\n",
        "records = cursor.fetchall()\n",
        "\n",
        "# Print the fetched records\n",
        "for record in records:\n",
        "    print(record)"
      ],
      "metadata": {
        "id": "kkViJRb6rIdN"
      },
      "execution_count": null,
      "outputs": []
    },
    {
      "cell_type": "code",
      "source": [
        "# Execute a SELECT query to calculate the average age\n",
        "cursor.execute(\"SELECT AVG(Age) FROM Students\")\n",
        "\n",
        "# Fetch all the records\n",
        "records = cursor.fetchall()\n",
        "\n",
        "# Print the fetched records\n",
        "for record in records:\n",
        "    print(record)"
      ],
      "metadata": {
        "id": "zgVfZF3Rqv9e"
      },
      "execution_count": null,
      "outputs": []
    },
    {
      "cell_type": "code",
      "source": [
        "# Execute a SELECT query to calculate the sum of ages\n",
        "cursor.execute(\"SELECT SUM(Age) FROM Students\")\n",
        "\n",
        "# Fetch all the records\n",
        "records = cursor.fetchall()\n",
        "\n",
        "# Print the fetched records\n",
        "for record in records:\n",
        "    print(record)"
      ],
      "metadata": {
        "id": "65h_nWB_q0Td"
      },
      "execution_count": null,
      "outputs": []
    },
    {
      "cell_type": "markdown",
      "source": [
        "## Challenge\n",
        "\n",
        "Count the number of employees in your table."
      ],
      "metadata": {
        "id": "FHaDz1Q90XgZ"
      }
    },
    {
      "cell_type": "code",
      "source": [],
      "metadata": {
        "id": "_x_-0v1J0luL"
      },
      "execution_count": null,
      "outputs": []
    },
    {
      "cell_type": "code",
      "source": [
        "# Hint\n",
        "SELECT COUNT(*) FROM Employees"
      ],
      "metadata": {
        "id": "egyedKpp0mBf"
      },
      "execution_count": null,
      "outputs": []
    },
    {
      "cell_type": "markdown",
      "source": [
        "## Challenge\n",
        "Calculate the average salary of the Employees table."
      ],
      "metadata": {
        "id": "sXijhi5yNVvP"
      }
    },
    {
      "cell_type": "code",
      "source": [],
      "metadata": {
        "id": "ycz2_m4ayQFI"
      },
      "execution_count": null,
      "outputs": []
    },
    {
      "cell_type": "code",
      "source": [
        "# Hint\n",
        "SELECT AVG(Salary) FROM Employees"
      ],
      "metadata": {
        "id": "ytt_YpLpyQhw"
      },
      "execution_count": null,
      "outputs": []
    },
    {
      "cell_type": "markdown",
      "source": [
        "## Challenge\n",
        "\n",
        "Calculate the total salary for the whole table."
      ],
      "metadata": {
        "id": "p59FDxbu0tIo"
      }
    },
    {
      "cell_type": "code",
      "source": [],
      "metadata": {
        "id": "yQqi99MA0yP9"
      },
      "execution_count": null,
      "outputs": []
    },
    {
      "cell_type": "code",
      "source": [
        "# Hint\n",
        "SELECT SUM(Salary) FROM Employees"
      ],
      "metadata": {
        "id": "b2N6DtaB0ybO"
      },
      "execution_count": null,
      "outputs": []
    },
    {
      "cell_type": "markdown",
      "source": [
        "# GROUP BY"
      ],
      "metadata": {
        "id": "qbKQl7x8sd3z"
      }
    },
    {
      "cell_type": "code",
      "source": [
        "# Execute a SELECT query with GROUP BY clause\n",
        "cursor.execute(\"SELECT Grade, COUNT(*) FROM Students GROUP BY Grade\")\n",
        "\n",
        "# Fetch all records grouped by grade\n",
        "records = cursor.fetchall()\n",
        "\n",
        "# Print the fetched records\n",
        "for record in records:\n",
        "    print(record)"
      ],
      "metadata": {
        "id": "CR9S5jcFsfbw"
      },
      "execution_count": null,
      "outputs": []
    },
    {
      "cell_type": "markdown",
      "source": [
        "## Challenge\n",
        "\n",
        "Use the GROUP BY function to calculate the number of employees per job role."
      ],
      "metadata": {
        "id": "Mk07PJlbtXf1"
      }
    },
    {
      "cell_type": "code",
      "source": [],
      "metadata": {
        "id": "hS2X5kaQtZRj"
      },
      "execution_count": null,
      "outputs": []
    },
    {
      "cell_type": "code",
      "source": [
        "# Hint\n",
        "SELECT Role, COUNT(*) FROM Employees GROUP BY Role"
      ],
      "metadata": {
        "id": "O-YL1faktkx8"
      },
      "execution_count": null,
      "outputs": []
    },
    {
      "cell_type": "markdown",
      "source": [
        "# LIKE"
      ],
      "metadata": {
        "id": "5l7u0COsyPfH"
      }
    },
    {
      "cell_type": "code",
      "source": [
        "# Execute a SELECT query with the LIKE operator and % wildcard\n",
        "cursor.execute(\"SELECT * FROM Students WHERE Name LIKE 'S%'\")\n",
        "\n",
        "# Fetch all records that satisfy the condition\n",
        "records = cursor.fetchall()\n",
        "\n",
        "# Print the selected records\n",
        "print(\"Records matching the condition (Name starts with 'S'):\")\n",
        "for record in records:\n",
        "    print(record)"
      ],
      "metadata": {
        "id": "3-puVLLzyQ3b"
      },
      "execution_count": null,
      "outputs": []
    },
    {
      "cell_type": "code",
      "source": [
        "# Execute a SELECT query with the LIKE operator and _ wildcard\n",
        "cursor.execute(\"SELECT * FROM Students WHERE Name LIKE '_a__'\")\n",
        "\n",
        "# Fetch all records that satisfy the condition\n",
        "records = cursor.fetchall()\n",
        "\n",
        "# Print the selected records\n",
        "print(\"Records matching the condition (Name has 4 characters and 2nd character is 'a'):\")\n",
        "for record in records:\n",
        "    print(record)"
      ],
      "metadata": {
        "id": "CHfgq_fVymkJ"
      },
      "execution_count": null,
      "outputs": []
    },
    {
      "cell_type": "markdown",
      "source": [
        "## Challenge\n",
        "\n",
        "Return records where the employee's first name has 5 letters."
      ],
      "metadata": {
        "id": "65JFxLDG0xg7"
      }
    },
    {
      "cell_type": "code",
      "source": [],
      "metadata": {
        "id": "HJOF9TEl1HCv"
      },
      "execution_count": null,
      "outputs": []
    },
    {
      "cell_type": "code",
      "source": [
        "# Hint\n",
        "SELECT * FROM Employees WHERE FName LIKE '____'"
      ],
      "metadata": {
        "id": "292Cy7rj1H4p"
      },
      "execution_count": null,
      "outputs": []
    },
    {
      "cell_type": "markdown",
      "source": [
        "# BETWEEN"
      ],
      "metadata": {
        "id": "fEFi1Rz-vZS1"
      }
    },
    {
      "cell_type": "code",
      "source": [
        "# Execute a SELECT query with the BETWEEN operator\n",
        "cursor.execute(\"SELECT * FROM Students WHERE Age BETWEEN 18 AND 20\")\n",
        "\n",
        "# Fetch all the records\n",
        "records = cursor.fetchall()\n",
        "\n",
        "# Print the fetched records\n",
        "for record in records:\n",
        "    print(record)"
      ],
      "metadata": {
        "id": "OeMehdVevb2A"
      },
      "execution_count": null,
      "outputs": []
    },
    {
      "cell_type": "markdown",
      "source": [
        "## Challenge\n",
        "\n",
        "Based on the values you selected, retrieve all records with salaries that within your desired range."
      ],
      "metadata": {
        "id": "G8LbR2De0mJT"
      }
    },
    {
      "cell_type": "code",
      "source": [],
      "metadata": {
        "id": "o4QUPTfuPIlp"
      },
      "execution_count": null,
      "outputs": []
    },
    {
      "cell_type": "code",
      "source": [
        "# Hint\n",
        "SELECT * FROM Employees WHERE Salary BETWEEN 35000 AND 45000"
      ],
      "metadata": {
        "id": "URP1urCYPI_y"
      },
      "execution_count": null,
      "outputs": []
    },
    {
      "cell_type": "markdown",
      "source": [
        "# Bonus Challenges\n",
        "\n",
        "Think you've mastered SQL basics? Below are some extra challenges for you to solve. We have made them more challenging to test your SQL prowess.\n",
        "\n",
        "1. Retrieve all records where the role isn't that of an Administrator and a Manager.\n",
        "2. List all developers in decreasing order of their salaries.\n",
        "3. Calculate the average salary per role and order in increasing order of role.\n",
        "4. Delete all employees that are assistants.\n",
        "5. Select the employees whose salary is greater than the average salary of all employees."
      ],
      "metadata": {
        "id": "M9yn-LZs2YS9"
      }
    },
    {
      "cell_type": "code",
      "source": [],
      "metadata": {
        "id": "-HAAMO_L3-wd"
      },
      "execution_count": null,
      "outputs": []
    },
    {
      "cell_type": "code",
      "source": [
        "# Hints\n",
        "# 1.\n",
        "SELECT * FROM Employees WHERE NOT Role = 'Administrator' AND NOT Role = Manager\n",
        "\n",
        "# 2.\n",
        "SELECT * FROM Employees WHERE Role = 'Developer' ORDER BY Salary DESC\n",
        "\n",
        "# 3.\n",
        "SELECT Role, AVG(Salary) FROM Employees GROUP BY Role ORDER BY Role\n",
        "\n",
        "# 4.\n",
        "DELETE FROM Employees WHERE Role = 'Assistant'\n",
        "\n",
        "# 5.\n",
        "SELECT * FROM Employees WHERE Salary > (SELECT AVG(Salary) FROM Employees)"
      ],
      "metadata": {
        "id": "cSSK0_Pg4APX"
      },
      "execution_count": null,
      "outputs": []
    },
    {
      "cell_type": "markdown",
      "source": [
        "# Closing the cursor & connection"
      ],
      "metadata": {
        "id": "wrucafHteJ-m"
      }
    },
    {
      "cell_type": "code",
      "source": [
        "# Close cursor and connection (always do this when you are done)\n",
        "cursor.close()\n",
        "conn.close()"
      ],
      "metadata": {
        "id": "TuUm9xGI3rpe"
      },
      "execution_count": null,
      "outputs": []
    }
  ]
}